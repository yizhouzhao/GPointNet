{
 "cells": [
  {
   "cell_type": "code",
   "execution_count": 1,
   "id": "20acdfc8",
   "metadata": {},
   "outputs": [],
   "source": [
    "# import torch\n",
    "# torch.cuda.is_available()\n",
    "# torch.backends.cudnn.enabled"
   ]
  },
  {
   "cell_type": "code",
   "execution_count": 2,
   "id": "e4f3c51b",
   "metadata": {},
   "outputs": [
    {
     "ename": "ImportError",
     "evalue": "/home/yizhou/anaconda3/envs/gpointnet_gpu/lib/python3.8/site-packages/chamferdist/_C.cpython-38-x86_64-linux-gnu.so: undefined symbol: _ZN6caffe28TypeMeta21_typeMetaDataInstanceIdEEPKNS_6detail12TypeMetaDataEv",
     "output_type": "error",
     "traceback": [
      "\u001b[0;31m---------------------------------------------------------------------------\u001b[0m",
      "\u001b[0;31mImportError\u001b[0m                               Traceback (most recent call last)",
      "\u001b[0;32m/tmp/ipykernel_16236/1542950036.py\u001b[0m in \u001b[0;36m<module>\u001b[0;34m\u001b[0m\n\u001b[0;32m----> 1\u001b[0;31m \u001b[0;32mfrom\u001b[0m \u001b[0mchamferdist\u001b[0m \u001b[0;32mimport\u001b[0m \u001b[0mChamferDistance\u001b[0m\u001b[0;34m\u001b[0m\u001b[0;34m\u001b[0m\u001b[0m\n\u001b[0m",
      "\u001b[0;32m~/anaconda3/envs/gpointnet_gpu/lib/python3.8/site-packages/chamferdist/__init__.py\u001b[0m in \u001b[0;36m<module>\u001b[0;34m\u001b[0m\n\u001b[0;32m----> 1\u001b[0;31m \u001b[0;32mfrom\u001b[0m \u001b[0;34m.\u001b[0m\u001b[0mchamfer\u001b[0m \u001b[0;32mimport\u001b[0m \u001b[0mChamferDistance\u001b[0m\u001b[0;34m\u001b[0m\u001b[0;34m\u001b[0m\u001b[0m\n\u001b[0m",
      "\u001b[0;32m~/anaconda3/envs/gpointnet_gpu/lib/python3.8/site-packages/chamferdist/chamfer.py\u001b[0m in \u001b[0;36m<module>\u001b[0;34m\u001b[0m\n\u001b[1;32m     10\u001b[0m \u001b[0;34m\u001b[0m\u001b[0m\n\u001b[1;32m     11\u001b[0m \u001b[0;31m# Throws an error without this import\u001b[0m\u001b[0;34m\u001b[0m\u001b[0;34m\u001b[0m\u001b[0;34m\u001b[0m\u001b[0m\n\u001b[0;32m---> 12\u001b[0;31m \u001b[0;32mfrom\u001b[0m \u001b[0mchamferdist\u001b[0m \u001b[0;32mimport\u001b[0m \u001b[0m_C\u001b[0m\u001b[0;34m\u001b[0m\u001b[0;34m\u001b[0m\u001b[0m\n\u001b[0m\u001b[1;32m     13\u001b[0m \u001b[0;32mfrom\u001b[0m \u001b[0mtorch\u001b[0m\u001b[0;34m.\u001b[0m\u001b[0mautograd\u001b[0m \u001b[0;32mimport\u001b[0m \u001b[0mFunction\u001b[0m\u001b[0;34m\u001b[0m\u001b[0;34m\u001b[0m\u001b[0m\n\u001b[1;32m     14\u001b[0m \u001b[0;32mfrom\u001b[0m \u001b[0mtorch\u001b[0m\u001b[0;34m.\u001b[0m\u001b[0mautograd\u001b[0m\u001b[0;34m.\u001b[0m\u001b[0mfunction\u001b[0m \u001b[0;32mimport\u001b[0m \u001b[0monce_differentiable\u001b[0m\u001b[0;34m\u001b[0m\u001b[0;34m\u001b[0m\u001b[0m\n",
      "\u001b[0;31mImportError\u001b[0m: /home/yizhou/anaconda3/envs/gpointnet_gpu/lib/python3.8/site-packages/chamferdist/_C.cpython-38-x86_64-linux-gnu.so: undefined symbol: _ZN6caffe28TypeMeta21_typeMetaDataInstanceIdEEPKNS_6detail12TypeMetaDataEv"
     ]
    }
   ],
   "source": [
    "from chamferdist import ChamferDistance"
   ]
  },
  {
   "cell_type": "code",
   "execution_count": null,
   "id": "27870e18",
   "metadata": {
    "scrolled": true
   },
   "outputs": [],
   "source": [
    "from src.model_point_torch import *"
   ]
  },
  {
   "cell_type": "code",
   "execution_count": null,
   "id": "7f750c8c",
   "metadata": {},
   "outputs": [],
   "source": [
    "from tqdm.auto import tqdm"
   ]
  },
  {
   "cell_type": "code",
   "execution_count": null,
   "id": "bd97f900",
   "metadata": {},
   "outputs": [],
   "source": [
    "opt = parse_config()\n",
    "opt = pre_process(opt)"
   ]
  },
  {
   "cell_type": "code",
   "execution_count": null,
   "id": "3aec16b1",
   "metadata": {},
   "outputs": [],
   "source": [
    "opt.batch_size = 16"
   ]
  },
  {
   "cell_type": "code",
   "execution_count": null,
   "id": "b3ad01e7",
   "metadata": {},
   "outputs": [],
   "source": [
    "opt"
   ]
  },
  {
   "cell_type": "code",
   "execution_count": null,
   "id": "f7a1e88d",
   "metadata": {},
   "outputs": [],
   "source": [
    "train_data = util_torch.PointCloudDataSet(opt)\n",
    "data_collator = util_torch.PointCloudDataCollator(opt)\n",
    "train_loader = torch.utils.data.DataLoader(train_data, batch_size=opt.batch_size, drop_last=opt.drop_last, \n",
    "    shuffle=opt.shuffle, collate_fn = data_collator, num_workers=torch.cuda.device_count() * 4)"
   ]
  },
  {
   "cell_type": "code",
   "execution_count": null,
   "id": "d3982a31",
   "metadata": {},
   "outputs": [],
   "source": [
    "from new.models import *"
   ]
  },
  {
   "cell_type": "code",
   "execution_count": null,
   "id": "8d10f800",
   "metadata": {},
   "outputs": [],
   "source": [
    "net_e = NetE()"
   ]
  },
  {
   "cell_type": "code",
   "execution_count": null,
   "id": "b1bdf5cc",
   "metadata": {},
   "outputs": [],
   "source": [
    "net_g = NetG()"
   ]
  },
  {
   "cell_type": "code",
   "execution_count": null,
   "id": "51ba6ba4",
   "metadata": {},
   "outputs": [],
   "source": [
    "a = torch.randn(16,1024)"
   ]
  },
  {
   "cell_type": "code",
   "execution_count": null,
   "id": "75ef799b",
   "metadata": {},
   "outputs": [],
   "source": [
    "# batch = next(iter(train_loader))"
   ]
  },
  {
   "cell_type": "code",
   "execution_count": null,
   "id": "6491601d",
   "metadata": {},
   "outputs": [],
   "source": [
    "batch = torch.randn(16, 3, 2048)"
   ]
  },
  {
   "cell_type": "code",
   "execution_count": null,
   "id": "b8530766",
   "metadata": {},
   "outputs": [],
   "source": [
    "net_e(a).shape"
   ]
  },
  {
   "cell_type": "code",
   "execution_count": null,
   "id": "3482beb8",
   "metadata": {},
   "outputs": [],
   "source": [
    "net_g(a).shape"
   ]
  },
  {
   "cell_type": "code",
   "execution_count": null,
   "id": "65801fb2",
   "metadata": {},
   "outputs": [],
   "source": [
    "net_wrapper = NetWrapper()"
   ]
  },
  {
   "cell_type": "code",
   "execution_count": null,
   "id": "e320ec00",
   "metadata": {},
   "outputs": [],
   "source": [
    "a.shape"
   ]
  },
  {
   "cell_type": "code",
   "execution_count": null,
   "id": "5a42c778",
   "metadata": {},
   "outputs": [],
   "source": [
    "z_plus, z_grad_norm = net_wrapper.sample_langevin_prior_z(a, net_wrapper.netE)"
   ]
  },
  {
   "cell_type": "code",
   "execution_count": null,
   "id": "018d9785",
   "metadata": {},
   "outputs": [],
   "source": [
    "z_plus.shape"
   ]
  },
  {
   "cell_type": "code",
   "execution_count": null,
   "id": "2d0cd15b",
   "metadata": {},
   "outputs": [],
   "source": [
    "net_wrapper(a).shape"
   ]
  },
  {
   "cell_type": "code",
   "execution_count": null,
   "id": "ff796ecc",
   "metadata": {},
   "outputs": [],
   "source": [
    "batch.shape"
   ]
  },
  {
   "cell_type": "code",
   "execution_count": null,
   "id": "b55150ba",
   "metadata": {},
   "outputs": [],
   "source": [
    "net_wrapper(a, x = batch, prior = False)"
   ]
  },
  {
   "cell_type": "code",
   "execution_count": null,
   "id": "5d3bd413",
   "metadata": {},
   "outputs": [],
   "source": [
    "x_plus = net_g(a)"
   ]
  },
  {
   "cell_type": "code",
   "execution_count": null,
   "id": "fd165d28",
   "metadata": {},
   "outputs": [],
   "source": [
    "x_plus.shape"
   ]
  },
  {
   "cell_type": "code",
   "execution_count": null,
   "id": "edd84a6d",
   "metadata": {},
   "outputs": [],
   "source": [
    "batch.transpose(1,2).shape"
   ]
  },
  {
   "cell_type": "code",
   "execution_count": null,
   "id": "8e7b2185",
   "metadata": {},
   "outputs": [],
   "source": [
    " from chamferdist import ChamferDistance"
   ]
  },
  {
   "cell_type": "code",
   "execution_count": null,
   "id": "b186d6a2",
   "metadata": {},
   "outputs": [],
   "source": [
    "chamferDist = ChamferDistance()"
   ]
  },
  {
   "cell_type": "code",
   "execution_count": null,
   "id": "c62ddde3",
   "metadata": {},
   "outputs": [],
   "source": [
    "loss = chamferDist(batch.transpose(1,2), x_plus.transpose(1,2))"
   ]
  },
  {
   "cell_type": "code",
   "execution_count": null,
   "id": "4f083b77",
   "metadata": {},
   "outputs": [],
   "source": [
    "loss.backward()"
   ]
  },
  {
   "cell_type": "code",
   "execution_count": null,
   "id": "1db37058",
   "metadata": {},
   "outputs": [],
   "source": [
    "from new.params import *"
   ]
  },
  {
   "cell_type": "code",
   "execution_count": null,
   "id": "fa3f62c0",
   "metadata": {},
   "outputs": [],
   "source": [
    "x_hat = net_g(a)"
   ]
  },
  {
   "cell_type": "code",
   "execution_count": null,
   "id": "8894338e",
   "metadata": {
    "scrolled": true
   },
   "outputs": [],
   "source": [
    "x_hat.shape"
   ]
  },
  {
   "cell_type": "code",
   "execution_count": null,
   "id": "06b728e3",
   "metadata": {},
   "outputs": [],
   "source": [
    "batch.shape"
   ]
  },
  {
   "cell_type": "code",
   "execution_count": null,
   "id": "c9247371",
   "metadata": {},
   "outputs": [],
   "source": [
    "g_log_lkhd = 1.0 / (2.0 * g_llhd_sigma * g_llhd_sigma) * net_wrapper.loss_fun(x_hat.transpose(1,2), batch.transpose(1,2))\n"
   ]
  },
  {
   "cell_type": "code",
   "execution_count": null,
   "id": "3bfa8d78",
   "metadata": {},
   "outputs": [],
   "source": []
  }
 ],
 "metadata": {
  "interpreter": {
   "hash": "ce5218cf49703339154b589b86213fa445c5f77f19be0ad8d0adf5abf2aa358c"
  },
  "kernelspec": {
   "display_name": "Python 3 (ipykernel)",
   "language": "python",
   "name": "python3"
  },
  "language_info": {
   "codemirror_mode": {
    "name": "ipython",
    "version": 3
   },
   "file_extension": ".py",
   "mimetype": "text/x-python",
   "name": "python",
   "nbconvert_exporter": "python",
   "pygments_lexer": "ipython3",
   "version": "3.8.8"
  }
 },
 "nbformat": 4,
 "nbformat_minor": 5
}
