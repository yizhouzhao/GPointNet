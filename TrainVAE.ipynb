{
 "cells": [
  {
   "cell_type": "code",
   "execution_count": null,
   "metadata": {},
   "outputs": [],
   "source": [
    "import argparse\n",
    "import json\n",
    "import logging\n",
    "import random\n",
    "from datetime import datetime\n",
    "from importlib import import_module\n",
    "from itertools import chain\n",
    "from os.path import join, exists\n",
    "\n",
    "import matplotlib.pyplot as plt\n",
    "import torch\n",
    "import torch.backends.cudnn as cudnn\n",
    "import torch.nn.parallel\n",
    "import torch.optim as optim\n",
    "import torch.utils.data\n",
    "from torch.utils.data import DataLoader\n",
    "\n",
    "from new.aae.pcutil import plot_3d_point_cloud\n",
    "#from utils.util import find_latest_epoch, prepare_results_dir, cuda_setup, setup_logging\n",
    "\n",
    "cudnn.benchmark = True\n"
   ]
  },
  {
   "cell_type": "code",
   "execution_count": null,
   "metadata": {},
   "outputs": [],
   "source": [
    "def weights_init(m):\n",
    "    classname = m.__class__.__name__\n",
    "    if classname.find('Conv') != -1:\n",
    "        gain = torch.nn.init.calculate_gain('relu')\n",
    "        torch.nn.init.xavier_uniform_(m.weight, gain)\n",
    "        if m.bias is not None:\n",
    "            torch.nn.init.constant_(m.bias, 0)\n",
    "    elif classname.find('BatchNorm') != -1:\n",
    "        torch.nn.init.constant_(m.weight, 1)\n",
    "        torch.nn.init.constant_(m.bias, 0)\n",
    "    elif classname.find('Linear') != -1:\n",
    "        gain = torch.nn.init.calculate_gain('relu')\n",
    "        torch.nn.init.xavier_uniform_(m.weight, gain)\n",
    "        if m.bias is not None:\n",
    "            torch.nn.init.constant_(m.bias, 0)\n"
   ]
  },
  {
   "cell_type": "code",
   "execution_count": null,
   "metadata": {},
   "outputs": [],
   "source": [
    "random.seed(123)\n",
    "torch.manual_seed(123)\n",
    "torch.cuda.manual_seed_all(123)"
   ]
  },
  {
   "cell_type": "code",
   "execution_count": null,
   "metadata": {},
   "outputs": [],
   "source": [
    "results_dir = \"results/\""
   ]
  },
  {
   "cell_type": "code",
   "execution_count": null,
   "metadata": {},
   "outputs": [],
   "source": [
    "device = torch.device(\"cuda\")"
   ]
  },
  {
   "cell_type": "code",
   "execution_count": null,
   "metadata": {},
   "outputs": [],
   "source": [
    "dataset_name = \"shapenet\""
   ]
  },
  {
   "cell_type": "code",
   "execution_count": null,
   "metadata": {},
   "outputs": [],
   "source": [
    "from new.shapenet import ShapeNetDataset"
   ]
  },
  {
   "cell_type": "code",
   "execution_count": null,
   "metadata": {},
   "outputs": [],
   "source": [
    "dataset = ShapeNetDataset(root_dir=\"shapenet\",\n",
    "                          classes=[\"chair\"])\n",
    "points_dataloader = DataLoader(dataset, batch_size=16,\n",
    "                               shuffle=True,\n",
    "                               num_workers=8,\n",
    "                               drop_last=True, pin_memory=True)"
   ]
  },
  {
   "cell_type": "code",
   "execution_count": null,
   "metadata": {},
   "outputs": [],
   "source": [
    "from new.aae.aae import Generator, Encoder\n",
    "\n",
    "G =  Generator().to(device)\n",
    "E = Encoder().to(device)\n",
    "\n",
    "G.apply(weights_init)\n",
    "E.apply(weights_init)"
   ]
  },
  {
   "cell_type": "code",
   "execution_count": null,
   "metadata": {},
   "outputs": [],
   "source": [
    "from new.params import z_dim"
   ]
  },
  {
   "cell_type": "code",
   "execution_count": null,
   "metadata": {},
   "outputs": [],
   "source": [
    "#\n",
    "# Float Tensors\n",
    "#\n",
    "fixed_noise = torch.FloatTensor(16, z_dim, 1)\n",
    "fixed_noise.normal_(mean=0, std=0.2)\n",
    "std_assumed = torch.tensor(0.2)\n",
    "\n",
    "fixed_noise = fixed_noise.to(device)\n",
    "std_assumed = std_assumed.to(device)\n",
    "\n",
    "#\n",
    "# Optimizers\n",
    "#\n",
    "optim_params = {\n",
    "                \"lr\": 0.0005,\n",
    "                \"weight_decay\": 0,\n",
    "                \"betas\": [0.9, 0.999],\n",
    "                \"amsgrad\": False\n",
    "            }\n",
    "\n",
    "EG_optim = torch.optim.Adam(chain(E.parameters(), G.parameters()),\n",
    "                    **optim_params)"
   ]
  },
  {
   "cell_type": "code",
   "execution_count": null,
   "metadata": {},
   "outputs": [],
   "source": [
    "from new.champfer_loss import ChamferLoss\n",
    "\n",
    "reconstruction_loss = ChamferLoss().to(device)"
   ]
  },
  {
   "cell_type": "code",
   "execution_count": null,
   "metadata": {
    "scrolled": true
   },
   "outputs": [],
   "source": [
    "for epoch in range(400):\n",
    "    start_epoch_time = datetime.now()\n",
    "\n",
    "    G.train()\n",
    "    E.train()\n",
    "\n",
    "    total_loss = 0.0\n",
    "    for i, point_data in enumerate(points_dataloader, 1):\n",
    "\n",
    "        X, _ = point_data\n",
    "        X = X.to(device)\n",
    "\n",
    "        # Change dim [BATCH, N_POINTS, N_DIM] -> [BATCH, N_DIM, N_POINTS]\n",
    "        if X.size(-1) == 3:\n",
    "            X.transpose_(X.dim() - 2, X.dim() - 1)\n",
    "\n",
    "        codes, mu, logvar = E(X)\n",
    "        X_rec = G(codes)\n",
    "\n",
    "        loss_e = torch.mean(\n",
    "             0.05 *\n",
    "            reconstruction_loss(X.permute(0, 2, 1) + 0.5,\n",
    "                                X_rec.permute(0, 2, 1) + 0.5))\n",
    "\n",
    "        loss_kld = -0.5 * torch.mean(\n",
    "            1 - 2.0 * torch.log(std_assumed) + logvar -\n",
    "            (mu.pow(2) + logvar.exp()) / torch.pow(std_assumed, 2))\n",
    "\n",
    "        loss_eg = loss_e + loss_kld\n",
    "        EG_optim.zero_grad()\n",
    "        E.zero_grad()\n",
    "        G.zero_grad()\n",
    "\n",
    "        loss_eg.backward()\n",
    "        total_loss += loss_eg.item()\n",
    "        EG_optim.step()\n",
    "        \n",
    "        if i % 30 == 0:\n",
    "            print(f'[{epoch}: ({i})] '\n",
    "                      f'Loss_EG: {loss_eg.item():.4f} '\n",
    "                      f'(REC: {loss_e.item(): .4f}'\n",
    "                      f' KLD: {loss_kld.item(): .4f})'\n",
    "                      f' Time: {datetime.now() - start_epoch_time}')\n",
    "\n",
    "    print(\n",
    "        f'[{epoch}/{400}] '\n",
    "        f'Loss_G: {total_loss / i:.4f} '\n",
    "        f'Time: {datetime.now() - start_epoch_time}'\n",
    "    )\n",
    "    \n",
    "    #\n",
    "    # Save intermediate results\n",
    "    #\n",
    "    G.eval()\n",
    "    E.eval()\n",
    "    with torch.no_grad():\n",
    "        fake = G(fixed_noise).data.cpu().numpy()\n",
    "        codes, _, _ = E(X)\n",
    "        X_rec = G(codes).data.cpu().numpy()\n",
    "        X = X.data.cpu().numpy()\n",
    "\n",
    "    for k in range(5):\n",
    "        fig = plot_3d_point_cloud(X[k][0], X[k][1], X[k][2],\n",
    "                                  in_u_sphere=True, show=False)\n",
    "        fig.savefig(\n",
    "            join(results_dir, 'samples', f'{epoch}_{k}_real.png'))\n",
    "        plt.close(fig)\n",
    "\n",
    "    for k in range(5):\n",
    "        fig = plot_3d_point_cloud(fake[k][0], fake[k][1], fake[k][2],\n",
    "                                  in_u_sphere=True, show=False,\n",
    "                                  title=str(epoch))\n",
    "        fig.savefig(\n",
    "            join(results_dir, 'samples', f'{epoch:05}_{k}_fixed.png'))\n",
    "        plt.close(fig)\n",
    "\n",
    "    for k in range(5):\n",
    "        fig = plot_3d_point_cloud(X_rec[k][0],\n",
    "                                  X_rec[k][1],\n",
    "                                  X_rec[k][2],\n",
    "                                  in_u_sphere=True, show=False)\n",
    "        fig.savefig(join(results_dir, 'samples',\n",
    "                         f'{epoch}_{k}_reconstructed.png'))\n",
    "        plt.close(fig)"
   ]
  },
  {
   "cell_type": "code",
   "execution_count": null,
   "metadata": {},
   "outputs": [],
   "source": []
  }
 ],
 "metadata": {
  "kernelspec": {
   "display_name": "Python 3",
   "language": "python",
   "name": "python3"
  },
  "language_info": {
   "codemirror_mode": {
    "name": "ipython",
    "version": 3
   },
   "file_extension": ".py",
   "mimetype": "text/x-python",
   "name": "python",
   "nbconvert_exporter": "python",
   "pygments_lexer": "ipython3",
   "version": "3.8.5"
  }
 },
 "nbformat": 4,
 "nbformat_minor": 4
}
