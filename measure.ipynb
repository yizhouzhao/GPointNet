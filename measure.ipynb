{
 "cells": [
  {
   "cell_type": "code",
   "execution_count": null,
   "id": "7d36936f",
   "metadata": {},
   "outputs": [],
   "source": [
    "#Logistic\n",
    "# import tqdm \n",
    "import argparse \n",
    "import traceback \n",
    "import datetime\n",
    "import json\n",
    "import os \n",
    "import sys\n",
    "sys.path.append('.')\n",
    "sys.path.append('./src')\n",
    "import warnings\n",
    "warnings.filterwarnings(\"ignore\", message=r\"Passing\", category=FutureWarning)\n",
    "\n",
    "# Main\n",
    "import torch \n",
    "# import pytorch_lightning as pl \n",
    "from utils import data_util\n",
    "from utils import util_torch\n",
    "import numpy as np\n",
    "from src.model_point_torch import GPointNet\n",
    "import src.network_torch as network_torch\n",
    "from metrics.evaluation_metrics import one_for_one_EMD_CD_\n",
    "import multiprocessing as mp\n",
    "import matplotlib.pyplot as plt\n",
    "from itertools import product, combinations\n"
   ]
  },
  {
   "cell_type": "code",
   "execution_count": null,
   "id": "2a420323",
   "metadata": {},
   "outputs": [],
   "source": [
    "def parse_config():\n",
    "\n",
    "    parser = argparse.ArgumentParser()\n",
    "\n",
    "    # Point cloud related\n",
    "    \n",
    "    parser.add_argument('-rec_step_size', type=float, default=0.2, help='')\n",
    "    parser.add_argument('-rec_step', type=int, default=64, help='')\n",
    "    parser.add_argument('-batch_size', type=int, default=128, help='')\n",
    "    parser.add_argument('-category', type=str, default=\"modelnet\")\n",
    "    parser.add_argument('-output_dir', type=str, default=\"default\")\n",
    "    parser.add_argument('-synthesis', action='store_true')\n",
    "    parser.add_argument('-evaluation', action='store_true')\n",
    "    parser.add_argument('-reconstruction', action='store_true')\n",
    "    parser.add_argument('-intepolation', action='store_true')\n",
    "    parser.add_argument('-visualize_layer', action='store_true')\n",
    "    parser.add_argument('-cuda', type=str, default=\"0\", help='')\n",
    "    parser.add_argument('-max_num', type=int, default=4, help='')\n",
    "    parser.add_argument('-visualize_mode', type=int, default=3)\n",
    "    parser.add_argument('-checkpoint_path', type=str, default=\"output/pytorch/modelnet10_default_big_nlr5e4_epo_1200.ckpt\")\n",
    "    \n",
    "    return parser.parse_args(\"\")"
   ]
  },
  {
   "cell_type": "code",
   "execution_count": null,
   "id": "95ac358a",
   "metadata": {},
   "outputs": [],
   "source": [
    "opt = parse_config()"
   ]
  },
  {
   "cell_type": "code",
   "execution_count": null,
   "id": "d1698b74",
   "metadata": {},
   "outputs": [],
   "source": [
    "opt.category = \"chair\" \n",
    "opt.checkpoint_path = \"checkpoint/syn_cvpr_chair.ckpt\"\n",
    "opt.synthesis = True \n",
    "opt.evaluation = True\n",
    "#reconstruction "
   ]
  },
  {
   "cell_type": "code",
   "execution_count": null,
   "id": "d1b9be3e",
   "metadata": {},
   "outputs": [],
   "source": [
    "opt.max_num = 64"
   ]
  },
  {
   "cell_type": "code",
   "execution_count": null,
   "id": "4d2fc65c",
   "metadata": {},
   "outputs": [],
   "source": [
    "opt.cuda = -2"
   ]
  },
  {
   "cell_type": "code",
   "execution_count": null,
   "id": "76ebe7e5",
   "metadata": {},
   "outputs": [],
   "source": [
    "if opt.cuda == \"-1\":\n",
    "    opt.cuda = 1\n",
    "elif opt.cuda == \"-2\":\n",
    "    opt.cuda = None\n",
    "else: \n",
    "    os.environ[\"CUDA_VISIBLE_DEVICES\"] = str(opt.cuda)\n",
    "opt.data_path = \"data/%s_train.npy\" % opt.category\n",
    "opt.output_dir = opt.checkpoint_path[:-5] if opt.output_dir==\"default\" else opt.output_dir\n",
    "print(opt.output_dir)"
   ]
  },
  {
   "cell_type": "code",
   "execution_count": null,
   "id": "996cdf6d",
   "metadata": {},
   "outputs": [],
   "source": [
    "current_step = 0\n",
    "if not os.path.exists(opt.output_dir):\n",
    "    os.makedirs(opt.output_dir)\n",
    "model = GPointNet.load_from_checkpoint(opt.checkpoint_path)#.cuda()"
   ]
  },
  {
   "cell_type": "code",
   "execution_count": null,
   "id": "ea30d4b9",
   "metadata": {},
   "outputs": [],
   "source": [
    "syn_pcs = model(batch_size=min(model.C.batch_size, opt.max_num)).cpu().data.numpy()\n",
    "#util_torch.visualize(syn_pcs[:20], num_rows=5, num_cols=4, output_filename=\"%s/syn_%d.png\" % (opt.output_dir, current_step), mode=1)\n",
    "#np.save(\"%s/syn_%d.npy\" % (opt.output_dir, current_step), syn_pcs)"
   ]
  },
  {
   "cell_type": "code",
   "execution_count": null,
   "id": "8969d710",
   "metadata": {},
   "outputs": [],
   "source": [
    "syn_pcs.shape"
   ]
  },
  {
   "cell_type": "code",
   "execution_count": null,
   "id": "486eb358",
   "metadata": {},
   "outputs": [],
   "source": [
    "model.C.batch_size"
   ]
  },
  {
   "cell_type": "code",
   "execution_count": null,
   "id": "6e13b78b",
   "metadata": {},
   "outputs": [],
   "source": [
    "ref_pcs = np.load(\"data/%s_test.npy\" % opt.category)"
   ]
  },
  {
   "cell_type": "code",
   "execution_count": null,
   "id": "bfb1afe5",
   "metadata": {},
   "outputs": [],
   "source": [
    "ref_pcs.shape"
   ]
  },
  {
   "cell_type": "code",
   "execution_count": null,
   "id": "e93fa405",
   "metadata": {},
   "outputs": [],
   "source": [
    "res = util_torch.quantitative_analysis(syn_pcs, ref_pcs, model.C.batch_size, full=False)"
   ]
  },
  {
   "cell_type": "code",
   "execution_count": null,
   "id": "4aafc71d",
   "metadata": {},
   "outputs": [],
   "source": [
    "res"
   ]
  },
  {
   "cell_type": "code",
   "execution_count": null,
   "id": "82207ee6",
   "metadata": {},
   "outputs": [],
   "source": [
    "# res"
   ]
  },
  {
   "cell_type": "code",
   "execution_count": null,
   "id": "d27a3543",
   "metadata": {},
   "outputs": [],
   "source": [
    "syn_pcs.device"
   ]
  },
  {
   "cell_type": "code",
   "execution_count": null,
   "id": "871adcce",
   "metadata": {},
   "outputs": [],
   "source": []
  }
 ],
 "metadata": {
  "kernelspec": {
   "display_name": "Python 3 (ipykernel)",
   "language": "python",
   "name": "python3"
  },
  "language_info": {
   "codemirror_mode": {
    "name": "ipython",
    "version": 3
   },
   "file_extension": ".py",
   "mimetype": "text/x-python",
   "name": "python",
   "nbconvert_exporter": "python",
   "pygments_lexer": "ipython3",
   "version": "3.8.12"
  }
 },
 "nbformat": 4,
 "nbformat_minor": 5
}
