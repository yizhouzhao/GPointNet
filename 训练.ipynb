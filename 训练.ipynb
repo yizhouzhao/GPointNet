{
 "cells": [
  {
   "cell_type": "code",
   "execution_count": 1,
   "id": "8736ac51",
   "metadata": {},
   "outputs": [],
   "source": [
    "# import torch\n",
    "# torch.cuda.is_available()\n",
    "# torch.backends.cudnn.enabled"
   ]
  },
  {
   "cell_type": "code",
   "execution_count": 2,
   "id": "5e9be5d2",
   "metadata": {},
   "outputs": [],
   "source": [
    "from chamferdist import ChamferDistance"
   ]
  },
  {
   "cell_type": "code",
   "execution_count": 3,
   "id": "2985db4a",
   "metadata": {
    "scrolled": true
   },
   "outputs": [
    {
     "name": "stdout",
     "output_type": "stream",
     "text": [
      "Eval not available.\n"
     ]
    }
   ],
   "source": [
    "from src.model_point_torch import *"
   ]
  },
  {
   "cell_type": "code",
   "execution_count": 4,
   "id": "857578c0",
   "metadata": {},
   "outputs": [],
   "source": [
    "opt = parse_config()\n",
    "opt = pre_process(opt)"
   ]
  },
  {
   "cell_type": "code",
   "execution_count": 5,
   "id": "b1da582a",
   "metadata": {},
   "outputs": [],
   "source": [
    "opt.batch_size = 16"
   ]
  },
  {
   "cell_type": "code",
   "execution_count": 6,
   "id": "210d2a76",
   "metadata": {},
   "outputs": [
    {
     "data": {
      "text/plain": [
       "Namespace(activate_eval=0, activation='ReLU', argment_mode=0, argment_noise=0.01, batch_norm='ln', batch_size=16, beta1_des=0.9, category='chair', checkpoint_path=None, cuda='-1', data_path='data', data_size=10000, debug=99, device='cuda:-1', do_evaluation=1, drop_last=False, eval_step=50, fp16='None', gradient_accumulation_steps=1, hidden_size=[[64, 64, 128, 256, 1024], [512, 256, 128, 64]], langevin_clip=1, langevin_decay=0, learning_mode=0, lr=0.0005, lr_decay=0.998, mode='train', net_type='default', noise_decay=0, normalize='ebp', num_chain=1, num_point=2048, num_steps=2000, output_dir='output\\\\pytorch\\\\chair_default_medium_Oct21_17-32-29', point_dim=3, random_sample=1, ref_sigma=0.3, sample_step=64, seed=666, shuffle=True, stable_check=1, step_size=0.01, swap_axis=True, test_size=16, visualize_mode=0, warm_start=0)"
      ]
     },
     "execution_count": 6,
     "metadata": {},
     "output_type": "execute_result"
    }
   ],
   "source": [
    "opt"
   ]
  },
  {
   "cell_type": "code",
   "execution_count": 7,
   "id": "dd0e03a0",
   "metadata": {},
   "outputs": [],
   "source": [
    "train_data = util_torch.PointCloudDataSet(opt)\n",
    "data_collator = util_torch.PointCloudDataCollator(opt)\n",
    "train_loader = torch.utils.data.DataLoader(train_data, batch_size=opt.batch_size, drop_last=opt.drop_last, \n",
    "    shuffle=opt.shuffle, collate_fn = data_collator, num_workers=torch.cuda.device_count() * 4)"
   ]
  },
  {
   "cell_type": "code",
   "execution_count": 8,
   "id": "fd0d7117",
   "metadata": {},
   "outputs": [],
   "source": [
    "from new.models import *"
   ]
  },
  {
   "cell_type": "code",
   "execution_count": 9,
   "id": "965ab99d",
   "metadata": {},
   "outputs": [],
   "source": [
    "net_e = NetE()"
   ]
  },
  {
   "cell_type": "code",
   "execution_count": 10,
   "id": "4ba1dac9",
   "metadata": {},
   "outputs": [],
   "source": [
    "net_g = NetG()"
   ]
  },
  {
   "cell_type": "code",
   "execution_count": 11,
   "id": "84741b00",
   "metadata": {},
   "outputs": [],
   "source": [
    "a = torch.randn(16,1024)"
   ]
  },
  {
   "cell_type": "code",
   "execution_count": 12,
   "id": "860e2f2c",
   "metadata": {},
   "outputs": [],
   "source": [
    "# batch = next(iter(train_loader))"
   ]
  },
  {
   "cell_type": "code",
   "execution_count": 13,
   "id": "0b926cbd",
   "metadata": {},
   "outputs": [],
   "source": [
    "batch = torch.randn(16, 3, 2048)"
   ]
  },
  {
   "cell_type": "code",
   "execution_count": 14,
   "id": "f1200122",
   "metadata": {},
   "outputs": [
    {
     "data": {
      "text/plain": [
       "torch.Size([16, 1])"
      ]
     },
     "execution_count": 14,
     "metadata": {},
     "output_type": "execute_result"
    }
   ],
   "source": [
    "net_e(a).shape"
   ]
  },
  {
   "cell_type": "code",
   "execution_count": 15,
   "id": "ae268c79",
   "metadata": {},
   "outputs": [
    {
     "data": {
      "text/plain": [
       "torch.Size([16, 3, 2048])"
      ]
     },
     "execution_count": 15,
     "metadata": {},
     "output_type": "execute_result"
    }
   ],
   "source": [
    "net_g(a).shape"
   ]
  },
  {
   "cell_type": "code",
   "execution_count": 16,
   "id": "be7ea538",
   "metadata": {},
   "outputs": [],
   "source": [
    "net_wrapper = NetWrapper()"
   ]
  },
  {
   "cell_type": "code",
   "execution_count": 17,
   "id": "8100fd70",
   "metadata": {},
   "outputs": [
    {
     "data": {
      "text/plain": [
       "torch.Size([16, 1024])"
      ]
     },
     "execution_count": 17,
     "metadata": {},
     "output_type": "execute_result"
    }
   ],
   "source": [
    "a.shape"
   ]
  },
  {
   "cell_type": "code",
   "execution_count": 18,
   "id": "abdb8fb1",
   "metadata": {},
   "outputs": [],
   "source": [
    "z_plus, z_grad_norm = net_wrapper.sample_langevin_prior_z(a, net_wrapper.netE)"
   ]
  },
  {
   "cell_type": "code",
   "execution_count": 19,
   "id": "eb631f83",
   "metadata": {},
   "outputs": [
    {
     "data": {
      "text/plain": [
       "torch.Size([16, 1024])"
      ]
     },
     "execution_count": 19,
     "metadata": {},
     "output_type": "execute_result"
    }
   ],
   "source": [
    "z_plus.shape"
   ]
  },
  {
   "cell_type": "code",
   "execution_count": 20,
   "id": "28679a1e",
   "metadata": {},
   "outputs": [
    {
     "data": {
      "text/plain": [
       "torch.Size([16, 1024])"
      ]
     },
     "execution_count": 20,
     "metadata": {},
     "output_type": "execute_result"
    }
   ],
   "source": [
    "net_wrapper(a).shape"
   ]
  },
  {
   "cell_type": "code",
   "execution_count": 21,
   "id": "314f3cbf",
   "metadata": {},
   "outputs": [
    {
     "data": {
      "text/plain": [
       "torch.Size([16, 3, 2048])"
      ]
     },
     "execution_count": 21,
     "metadata": {},
     "output_type": "execute_result"
    }
   ],
   "source": [
    "batch.shape"
   ]
  },
  {
   "cell_type": "code",
   "execution_count": 22,
   "id": "9f573553",
   "metadata": {},
   "outputs": [
    {
     "name": "stdout",
     "output_type": "stream",
     "text": [
      "x_hat.shape torch.Size([16, 3, 2048]) torch.Size([16, 3, 2048])\n",
      "x_hat.shape torch.Size([16, 3, 2048]) torch.Size([16, 3, 2048])\n",
      "x_hat.shape torch.Size([16, 3, 2048]) torch.Size([16, 3, 2048])\n",
      "x_hat.shape torch.Size([16, 3, 2048]) torch.Size([16, 3, 2048])\n",
      "x_hat.shape torch.Size([16, 3, 2048]) torch.Size([16, 3, 2048])\n",
      "x_hat.shape torch.Size([16, 3, 2048]) torch.Size([16, 3, 2048])\n",
      "x_hat.shape torch.Size([16, 3, 2048]) torch.Size([16, 3, 2048])\n",
      "x_hat.shape torch.Size([16, 3, 2048]) torch.Size([16, 3, 2048])\n",
      "x_hat.shape torch.Size([16, 3, 2048]) torch.Size([16, 3, 2048])\n",
      "x_hat.shape torch.Size([16, 3, 2048]) torch.Size([16, 3, 2048])\n",
      "x_hat.shape torch.Size([16, 3, 2048]) torch.Size([16, 3, 2048])\n",
      "x_hat.shape torch.Size([16, 3, 2048]) torch.Size([16, 3, 2048])\n",
      "x_hat.shape torch.Size([16, 3, 2048]) torch.Size([16, 3, 2048])\n",
      "x_hat.shape torch.Size([16, 3, 2048]) torch.Size([16, 3, 2048])\n",
      "x_hat.shape torch.Size([16, 3, 2048]) torch.Size([16, 3, 2048])\n",
      "x_hat.shape torch.Size([16, 3, 2048]) torch.Size([16, 3, 2048])\n",
      "x_hat.shape torch.Size([16, 3, 2048]) torch.Size([16, 3, 2048])\n",
      "x_hat.shape torch.Size([16, 3, 2048]) torch.Size([16, 3, 2048])\n",
      "x_hat.shape torch.Size([16, 3, 2048]) torch.Size([16, 3, 2048])\n",
      "x_hat.shape torch.Size([16, 3, 2048]) torch.Size([16, 3, 2048])\n",
      "x_hat.shape torch.Size([16, 3, 2048]) torch.Size([16, 3, 2048])\n",
      "x_hat.shape torch.Size([16, 3, 2048]) torch.Size([16, 3, 2048])\n",
      "x_hat.shape torch.Size([16, 3, 2048]) torch.Size([16, 3, 2048])\n",
      "x_hat.shape torch.Size([16, 3, 2048]) torch.Size([16, 3, 2048])\n",
      "x_hat.shape torch.Size([16, 3, 2048]) torch.Size([16, 3, 2048])\n",
      "x_hat.shape torch.Size([16, 3, 2048]) torch.Size([16, 3, 2048])\n",
      "x_hat.shape torch.Size([16, 3, 2048]) torch.Size([16, 3, 2048])\n",
      "x_hat.shape torch.Size([16, 3, 2048]) torch.Size([16, 3, 2048])\n",
      "x_hat.shape torch.Size([16, 3, 2048]) torch.Size([16, 3, 2048])\n",
      "x_hat.shape torch.Size([16, 3, 2048]) torch.Size([16, 3, 2048])\n",
      "x_hat.shape torch.Size([16, 3, 2048]) torch.Size([16, 3, 2048])\n",
      "x_hat.shape torch.Size([16, 3, 2048]) torch.Size([16, 3, 2048])\n",
      "x_hat.shape torch.Size([16, 3, 2048]) torch.Size([16, 3, 2048])\n",
      "x_hat.shape torch.Size([16, 3, 2048]) torch.Size([16, 3, 2048])\n",
      "x_hat.shape torch.Size([16, 3, 2048]) torch.Size([16, 3, 2048])\n",
      "x_hat.shape torch.Size([16, 3, 2048]) torch.Size([16, 3, 2048])\n",
      "x_hat.shape torch.Size([16, 3, 2048]) torch.Size([16, 3, 2048])\n",
      "x_hat.shape torch.Size([16, 3, 2048]) torch.Size([16, 3, 2048])\n",
      "x_hat.shape torch.Size([16, 3, 2048]) torch.Size([16, 3, 2048])\n",
      "x_hat.shape torch.Size([16, 3, 2048]) torch.Size([16, 3, 2048])\n"
     ]
    },
    {
     "data": {
      "text/plain": [
       "tensor([[ 0.1749,  0.8837,  0.4786,  ...,  0.3097,  0.6597, -0.8071],\n",
       "        [ 0.0701, -0.4127, -0.6196,  ...,  0.4455,  1.0765,  2.1776],\n",
       "        [ 0.7872,  2.5924,  0.3296,  ...,  0.0264, -0.5068, -0.9783],\n",
       "        ...,\n",
       "        [ 0.6432, -1.3634, -0.2784,  ..., -1.1733, -0.3474,  1.0219],\n",
       "        [-1.5006, -0.6324, -0.1700,  ..., -1.8696, -0.7499,  0.1908],\n",
       "        [ 1.0390,  0.8476, -0.7306,  ..., -0.9720, -1.3411, -0.6321]])"
      ]
     },
     "execution_count": 22,
     "metadata": {},
     "output_type": "execute_result"
    }
   ],
   "source": [
    "net_wrapper(a, x = batch, prior = False)"
   ]
  },
  {
   "cell_type": "code",
   "execution_count": 23,
   "id": "98485840",
   "metadata": {},
   "outputs": [],
   "source": [
    "x_plus = net_g(a)"
   ]
  },
  {
   "cell_type": "code",
   "execution_count": 24,
   "id": "8dea5604",
   "metadata": {},
   "outputs": [
    {
     "data": {
      "text/plain": [
       "torch.Size([16, 3, 2048])"
      ]
     },
     "execution_count": 24,
     "metadata": {},
     "output_type": "execute_result"
    }
   ],
   "source": [
    "x_plus.shape"
   ]
  },
  {
   "cell_type": "code",
   "execution_count": 25,
   "id": "b9955dd8",
   "metadata": {},
   "outputs": [
    {
     "data": {
      "text/plain": [
       "torch.Size([16, 2048, 3])"
      ]
     },
     "execution_count": 25,
     "metadata": {},
     "output_type": "execute_result"
    }
   ],
   "source": [
    "batch.transpose(1,2).shape"
   ]
  },
  {
   "cell_type": "code",
   "execution_count": 26,
   "id": "2991219a",
   "metadata": {},
   "outputs": [],
   "source": [
    " from chamferdist import ChamferDistance"
   ]
  },
  {
   "cell_type": "code",
   "execution_count": 27,
   "id": "f17320a9",
   "metadata": {},
   "outputs": [],
   "source": [
    "chamferDist = ChamferDistance()"
   ]
  },
  {
   "cell_type": "code",
   "execution_count": 28,
   "id": "64972b42",
   "metadata": {},
   "outputs": [],
   "source": [
    "loss = chamferDist(batch.transpose(1,2), x_plus.transpose(1,2))"
   ]
  },
  {
   "cell_type": "code",
   "execution_count": 29,
   "id": "60688b32",
   "metadata": {},
   "outputs": [],
   "source": [
    "loss.backward()"
   ]
  },
  {
   "cell_type": "code",
   "execution_count": 30,
   "id": "e53d5b7a",
   "metadata": {},
   "outputs": [],
   "source": [
    "from new.params import *"
   ]
  },
  {
   "cell_type": "code",
   "execution_count": 31,
   "id": "a9b9dcb7",
   "metadata": {},
   "outputs": [],
   "source": [
    "x_hat = net_g(a)"
   ]
  },
  {
   "cell_type": "code",
   "execution_count": 32,
   "id": "f441c66c",
   "metadata": {
    "scrolled": true
   },
   "outputs": [
    {
     "data": {
      "text/plain": [
       "torch.Size([16, 3, 2048])"
      ]
     },
     "execution_count": 32,
     "metadata": {},
     "output_type": "execute_result"
    }
   ],
   "source": [
    "x_hat.shape"
   ]
  },
  {
   "cell_type": "code",
   "execution_count": 33,
   "id": "e37cd52a",
   "metadata": {},
   "outputs": [
    {
     "data": {
      "text/plain": [
       "torch.Size([16, 3, 2048])"
      ]
     },
     "execution_count": 33,
     "metadata": {},
     "output_type": "execute_result"
    }
   ],
   "source": [
    "batch.shape"
   ]
  },
  {
   "cell_type": "code",
   "execution_count": 34,
   "id": "02494b42",
   "metadata": {},
   "outputs": [],
   "source": [
    "g_log_lkhd = 1.0 / (2.0 * g_llhd_sigma * g_llhd_sigma) * net_wrapper.loss_fun(x_hat.transpose(1,2), batch.transpose(1,2))\n"
   ]
  },
  {
   "cell_type": "code",
   "execution_count": null,
   "id": "d34159ac",
   "metadata": {},
   "outputs": [],
   "source": []
  }
 ],
 "metadata": {
  "kernelspec": {
   "display_name": "Python 3",
   "language": "python",
   "name": "python3"
  },
  "language_info": {
   "codemirror_mode": {
    "name": "ipython",
    "version": 3
   },
   "file_extension": ".py",
   "mimetype": "text/x-python",
   "name": "python",
   "nbconvert_exporter": "python",
   "pygments_lexer": "ipython3",
   "version": "3.8.5"
  }
 },
 "nbformat": 4,
 "nbformat_minor": 5
}
