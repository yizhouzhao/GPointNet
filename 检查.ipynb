{
 "cells": [
  {
   "cell_type": "code",
   "execution_count": 1,
   "id": "8b27fa8a",
   "metadata": {},
   "outputs": [],
   "source": [
    "import torch"
   ]
  },
  {
   "cell_type": "code",
   "execution_count": 2,
   "id": "1f94fc1c",
   "metadata": {},
   "outputs": [],
   "source": [
    "from itertools import chain"
   ]
  },
  {
   "cell_type": "code",
   "execution_count": 3,
   "id": "d20f1539",
   "metadata": {},
   "outputs": [],
   "source": [
    "from new.models import *\n",
    "from new.configs import *\n",
    "from new.utils import * \n",
    "from utils.util_torch import *"
   ]
  },
  {
   "cell_type": "code",
   "execution_count": 4,
   "id": "f000159b",
   "metadata": {},
   "outputs": [
    {
     "name": "stdout",
     "output_type": "stream",
     "text": [
      "Namespace(activate_eval=0, activation='ReLU', argment_mode=0, argment_noise=0.01, batch_norm='ln', batch_size=16, beta1_des=0.9, category='chair', checkpoint_path=None, cuda='-1', data_path='data', data_size=10000, debug=99, device='cuda:-1', do_evaluation=1, drop_last=False, eval_step=50, fp16='None', gradient_accumulation_steps=1, langevin_clip=1, langevin_decay=0, learning_mode=0, lr=0.0005, lr_decay=0.998, mode='train', net_type='default_medium', noise_decay=0, normalize='ebp', num_chain=1, num_point=2048, num_steps=2000, output_dir='default', point_dim=3, random_sample=1, ref_sigma=0.3, sample_step=64, seed=666, shuffle=True, stable_check=1, step_size=0.01, swap_axis=True, test_size=16, visualize_mode=0, warm_start=0)\n"
     ]
    }
   ],
   "source": [
    "opt = parse_config()\n",
    "opt.batch_size = batch_size\n",
    "opt.swap_axis = True\n",
    "if len(opt.checkpoint_path) == 0:\n",
    "    opt.checkpoint_path = None \n",
    "opt.device = \"cuda:%s\" % opt.cuda if opt.cuda!=\"\" else \"cpu\"\n",
    "opt.shuffle = not opt.warm_start\n",
    "print(opt)"
   ]
  },
  {
   "cell_type": "code",
   "execution_count": 5,
   "id": "087a7a74",
   "metadata": {},
   "outputs": [],
   "source": [
    "train_data = PointCloudDataSet(opt)\n",
    "data_collator = PointCloudDataCollator(opt)\n",
    "train_loader = torch.utils.data.DataLoader(train_data, shuffle=True)\n",
    "# torch.utils.data.DataLoader(train_data, batch_size=opt.batch_size, drop_last=opt.drop_last, \n",
    "#     shuffle=opt.shuffle, collate_fn = data_collator, num_workers=torch.cuda.device_count() * 4)"
   ]
  },
  {
   "cell_type": "code",
   "execution_count": null,
   "id": "29e9dae8",
   "metadata": {},
   "outputs": [],
   "source": [
    "G = NetG().cuda()\n",
    "E = Encoder().cuda()"
   ]
  },
  {
   "cell_type": "code",
   "execution_count": null,
   "id": "5b1518e8",
   "metadata": {},
   "outputs": [],
   "source": [
    "EG_optim = torch.optim.Adam(chain(E.parameters(), G.parameters()),\n",
    "                    lr = 1e-4)"
   ]
  },
  {
   "cell_type": "code",
   "execution_count": null,
   "id": "f12fae21",
   "metadata": {},
   "outputs": [],
   "source": [
    "a = torch.randn(16, 3, 2048).to(\"cuda\")"
   ]
  },
  {
   "cell_type": "code",
   "execution_count": null,
   "id": "0e7cc7b3",
   "metadata": {},
   "outputs": [],
   "source": [
    "E(a)[0].shape"
   ]
  },
  {
   "cell_type": "code",
   "execution_count": null,
   "id": "eef5b6c4",
   "metadata": {},
   "outputs": [],
   "source": [
    "from metrics.evaluation_metrics import distChamferCUDA, distChamfer"
   ]
  },
  {
   "cell_type": "code",
   "execution_count": null,
   "id": "321d8ecc",
   "metadata": {},
   "outputs": [],
   "source": [
    "def loss_fun(x:torch.Tensor, y:torch.Tensor, loss_type = \"chamfer distance\"):\n",
    "    if x.is_cuda:\n",
    "        dl, dr = distChamferCUDA(x, y)\n",
    "    else:\n",
    "        dl, dr = distChamfer(x, y)\n",
    "\n",
    "    cd = torch.mean(dl + dr)\n",
    "    return cd"
   ]
  },
  {
   "cell_type": "code",
   "execution_count": null,
   "id": "b02187f8",
   "metadata": {},
   "outputs": [],
   "source": [
    "#\n",
    "# Float Tensors\n",
    "#\n",
    "fixed_noise = torch.FloatTensor(16, 2048, 1)\n",
    "fixed_noise.normal_(mean=0, std=0.2)\n",
    "std_assumed = torch.tensor(0.2)\n",
    "\n",
    "fixed_noise = fixed_noise.to(\"cuda\")\n",
    "std_assumed = std_assumed.to(\"cuda\")"
   ]
  },
  {
   "cell_type": "code",
   "execution_count": null,
   "id": "d3f364ec",
   "metadata": {},
   "outputs": [],
   "source": [
    "\n",
    "total_step = 0"
   ]
  },
  {
   "cell_type": "code",
   "execution_count": null,
   "id": "7c4f6fa2",
   "metadata": {},
   "outputs": [],
   "source": [
    "%matplotlib inline\n",
    "\n",
    "for epoch in range(10):\n",
    "    G.train()\n",
    "    E.train()\n",
    "\n",
    "    total_loss = 0.0\n",
    "    for i, point_data in enumerate(train_loader):\n",
    "        X = point_data\n",
    "        X = X.to(\"cuda\")\n",
    "\n",
    "        total_step += 1\n",
    "\n",
    "        # Change dim [BATCH, N_POINTS, N_DIM] -> [BATCH, N_DIM, N_POINTS]\n",
    "        if X.size(-1) == 3:\n",
    "            X.transpose_(X.dim() - 2, X.dim() - 1)\n",
    "\n",
    "        codes, mu, logvar = E(X)\n",
    "        X_rec = G(codes)\n",
    "\n",
    "        loss_e = torch.mean(\n",
    "            0.05 *\n",
    "            loss_fun(X.permute(0, 2, 1).contiguous() + 0.5,\n",
    "                                X_rec.permute(0, 2, 1).contiguous() + 0.5))\n",
    "\n",
    "        loss_kld = -0.5 * torch.mean(\n",
    "            1 - 2.0 * torch.log(std_assumed) + logvar -\n",
    "            (mu.pow(2) + logvar.exp()) / torch.pow(std_assumed, 2))\n",
    "\n",
    "        loss_eg = loss_e + loss_kld\n",
    "        EG_optim.zero_grad()\n",
    "        E.zero_grad()\n",
    "        G.zero_grad()\n",
    "\n",
    "        loss_eg.backward()\n",
    "        total_loss += loss_eg.item()\n",
    "        EG_optim.step()\n",
    "\n",
    "        if total_step % 10 == 0:\n",
    "            print(f'[{epoch}: ({i})] '\n",
    "                      f'Loss_EG: {loss_eg.item():.4f} '\n",
    "                      f'(REC: {loss_e.item(): .4f}'\n",
    "                      f' KLD: {loss_kld.item(): .4f})')\n",
    "\n",
    "    ############################## EVAL #####################################\n",
    "    G.eval()\n",
    "    E.eval()\n",
    "    with torch.no_grad():\n",
    "        fake = G(fixed_noise.squeeze(2))\n",
    "        codes, _, _ = E(X)\n",
    "        X_rec = G(codes).data.cpu().numpy()\n",
    "\n",
    "        print(\"fake\")\n",
    "        show_point_clouds(fake.data.cpu().numpy())\n",
    "        print(\"X_rec\")\n",
    "        show_point_clouds(X_rec)"
   ]
  },
  {
   "cell_type": "code",
   "execution_count": null,
   "id": "fd1897ad",
   "metadata": {},
   "outputs": [],
   "source": []
  }
 ],
 "metadata": {
  "kernelspec": {
   "display_name": "Python 3 (ipykernel)",
   "language": "python",
   "name": "python3"
  },
  "language_info": {
   "codemirror_mode": {
    "name": "ipython",
    "version": 3
   },
   "file_extension": ".py",
   "mimetype": "text/x-python",
   "name": "python",
   "nbconvert_exporter": "python",
   "pygments_lexer": "ipython3",
   "version": "3.8.12"
  }
 },
 "nbformat": 4,
 "nbformat_minor": 5
}
